{
  "nbformat": 4,
  "nbformat_minor": 0,
  "metadata": {
    "colab": {
      "provenance": [],
      "mount_file_id": "1nWnDvMpe2fg8aoE4EVGqn8YIvImItXYt",
      "authorship_tag": "ABX9TyMzeC4vQkfHgbzWT4qK70hn",
      "include_colab_link": true
    },
    "kernelspec": {
      "name": "python3",
      "display_name": "Python 3"
    },
    "language_info": {
      "name": "python"
    }
  },
  "cells": [
    {
      "cell_type": "markdown",
      "metadata": {
        "id": "view-in-github",
        "colab_type": "text"
      },
      "source": [
        "<a href=\"https://colab.research.google.com/github/SrikanthArgp/colab_practices/blob/main/Movies_Vec_DB.ipynb\" target=\"_parent\"><img src=\"https://colab.research.google.com/assets/colab-badge.svg\" alt=\"Open In Colab\"/></a>"
      ]
    },
    {
      "cell_type": "code",
      "execution_count": null,
      "metadata": {
        "id": "8POg6UXlCKqh"
      },
      "outputs": [],
      "source": [
        "import re\n",
        "import pandas as pd\n",
        "import seaborn as sns\n",
        "from langchain.text_splitter import SentenceTransformersTokenTextSplitter\n",
        "import chromadb\n",
        "from chromadb.utils.embedding_functions import SentenceTransformerEmbeddingFunction\n",
        "from pprint import pprint"
      ]
    },
    {
      "cell_type": "code",
      "source": [
        "#!pip install langchain"
      ],
      "metadata": {
        "id": "GOD3O6hfCflE"
      },
      "execution_count": null,
      "outputs": []
    },
    {
      "cell_type": "code",
      "source": [
        "#!pip install chromadb"
      ],
      "metadata": {
        "id": "kx41d41YClAa"
      },
      "execution_count": null,
      "outputs": []
    },
    {
      "cell_type": "code",
      "source": [
        "def max_word_count(txt_list:list):\n",
        "    max_length = 0\n",
        "    for txt in txt_list:\n",
        "        word_count = len(re.findall(r'\\w+', txt))\n",
        "        if word_count > max_length:\n",
        "            max_length = word_count\n",
        "    return f\"Max Word Count: {max_length} words\""
      ],
      "metadata": {
        "id": "DNqqlOtOCvNk"
      },
      "execution_count": null,
      "outputs": []
    },
    {
      "cell_type": "code",
      "source": [
        "model_max_chunk_length = 256\n",
        "token_splitter = SentenceTransformersTokenTextSplitter(\n",
        "    tokens_per_chunk=model_max_chunk_length,\n",
        "    model_name=\"all-MiniLM-L6-v2\",\n",
        "    chunk_overlap=0\n",
        ")"
      ],
      "metadata": {
        "id": "BlgHz8y8C8sL"
      },
      "execution_count": null,
      "outputs": []
    },
    {
      "cell_type": "code",
      "source": [
        "!pip install sentence-transformers"
      ],
      "metadata": {
        "id": "b8-eoYQJC_IG"
      },
      "execution_count": null,
      "outputs": []
    },
    {
      "cell_type": "code",
      "source": [
        "text_path = \"/content/drive/MyDrive/AppliedNLPMaterial-master/data/movies.csv\"\n",
        "df_movies_raw = pd.read_csv(text_path, parse_dates=['release_date'])\n",
        "\n",
        "df_movies_raw.head(2)"
      ],
      "metadata": {
        "id": "BP4AJy4rDL4E"
      },
      "execution_count": null,
      "outputs": []
    },
    {
      "cell_type": "code",
      "source": [
        "selected_cols = ['id', 'title', 'overview', 'vote_average', 'release_date']\n",
        "df_movies_filt = df_movies_raw[selected_cols].dropna()"
      ],
      "metadata": {
        "id": "jh1bmzPaEjDq"
      },
      "execution_count": null,
      "outputs": []
    },
    {
      "cell_type": "code",
      "source": [
        "df_movies_filt = df_movies_filt.drop_duplicates(subset=['id'])"
      ],
      "metadata": {
        "id": "n4l8FW4WEo7B"
      },
      "execution_count": null,
      "outputs": []
    },
    {
      "cell_type": "code",
      "source": [
        "df_movies_filt = df_movies_filt[df_movies_filt['release_date'] > '2023-01-01']\n",
        "df_movies_filt.shape"
      ],
      "metadata": {
        "id": "KEHlks82ErpR"
      },
      "execution_count": null,
      "outputs": []
    },
    {
      "cell_type": "code",
      "source": [
        "max_word_count(df_movies_filt['overview'])"
      ],
      "metadata": {
        "id": "rdOMdBouEum7"
      },
      "execution_count": null,
      "outputs": []
    },
    {
      "cell_type": "code",
      "source": [
        "descriptions_len = []\n",
        "for txt in df_movies_filt.loc[:, \"overview\"]:\n",
        "    descriptions_len.append(len(re.findall(r'\\w+', txt)))"
      ],
      "metadata": {
        "id": "kqhEkZ-4Ezp4"
      },
      "execution_count": null,
      "outputs": []
    },
    {
      "cell_type": "code",
      "source": [
        "sns.histplot(descriptions_len, bins=100)"
      ],
      "metadata": {
        "id": "Hpx-3SiAE2-T"
      },
      "execution_count": null,
      "outputs": []
    },
    {
      "cell_type": "code",
      "source": [
        "embedding_fn = SentenceTransformerEmbeddingFunction()"
      ],
      "metadata": {
        "id": "volzuyemE5wq"
      },
      "execution_count": null,
      "outputs": []
    },
    {
      "cell_type": "code",
      "source": [
        "chroma_db = chromadb.PersistentClient(path=\"/content/drive/MyDrive/AppliedNLPMaterial-master/040_VectorDatabase/db\")"
      ],
      "metadata": {
        "id": "ar5qJ6FoE9_u"
      },
      "execution_count": null,
      "outputs": []
    },
    {
      "cell_type": "code",
      "source": [
        "chroma_db.list_collections()"
      ],
      "metadata": {
        "id": "ERT5Pd9wFDe-"
      },
      "execution_count": null,
      "outputs": []
    },
    {
      "cell_type": "code",
      "source": [
        "chroma_collection = chroma_db.get_or_create_collection(\"movies\")"
      ],
      "metadata": {
        "id": "I7dq7JQiFoSo"
      },
      "execution_count": null,
      "outputs": []
    },
    {
      "cell_type": "code",
      "source": [
        "ids = [str(i) for i in df_movies_filt['id'].tolist()]\n",
        "documents = df_movies_filt['overview'].tolist()\n",
        "titles = df_movies_filt['title'].tolist()\n",
        "metadatas = [{'source': title} for title in titles]"
      ],
      "metadata": {
        "id": "zPwxg9BBFr8i"
      },
      "execution_count": null,
      "outputs": []
    },
    {
      "cell_type": "code",
      "source": [
        "chroma_collection.add(documents=documents, ids=ids, metadatas=metadatas)"
      ],
      "metadata": {
        "id": "bfN6g5g6F275"
      },
      "execution_count": null,
      "outputs": []
    },
    {
      "cell_type": "code",
      "source": [
        "len(chroma_collection.get()['ids'])"
      ],
      "metadata": {
        "id": "l_e9GpK8F5Y_"
      },
      "execution_count": null,
      "outputs": []
    },
    {
      "cell_type": "code",
      "source": [
        "def get_title_by_description(query_text:str):\n",
        "    n_results = 3\n",
        "    res = chroma_collection.query(query_texts=[query_text], n_results=n_results)\n",
        "    for i in range(n_results):\n",
        "        pprint(f\"Title: {res['metadatas'][0][i]['source']} \\n\")\n",
        "        pprint(f\"Description: {res['documents'][0][i]} \\n\")\n",
        "        pprint(\"-------------------------------------------------\")"
      ],
      "metadata": {
        "id": "1HhXLYmyGqXy"
      },
      "execution_count": null,
      "outputs": []
    },
    {
      "cell_type": "code",
      "source": [
        "get_title_by_description(query_text=\"monster, underwater\")"
      ],
      "metadata": {
        "id": "CQFO1frRGwwS"
      },
      "execution_count": null,
      "outputs": []
    },
    {
      "cell_type": "code",
      "source": [
        "import os\n",
        "from dotenv import load_dotenv\n",
        "load_dotenv()\n",
        "print(\"Hello dot env\", os.getenv(\"OPENAI_API_KEY\"))"
      ],
      "metadata": {
        "id": "xz-cp-7EG3iK"
      },
      "execution_count": null,
      "outputs": []
    },
    {
      "cell_type": "code",
      "source": [
        "#!pip list | grep dotenv"
      ],
      "metadata": {
        "id": "eeaCZMz6KQHv"
      },
      "execution_count": null,
      "outputs": []
    },
    {
      "cell_type": "code",
      "source": [
        "import openai\n",
        "from openai import OpenAI\n",
        "openai.api_key = os.getenv(\"OPENAI_API_KEY\")"
      ],
      "metadata": {
        "id": "7nJRN4d3KZ1d"
      },
      "execution_count": null,
      "outputs": []
    },
    {
      "cell_type": "code",
      "source": [
        "!pip install openai"
      ],
      "metadata": {
        "id": "aAscf1CnLqUF"
      },
      "execution_count": null,
      "outputs": []
    },
    {
      "cell_type": "code",
      "source": [
        "chroma_db = chromadb.PersistentClient(path=\"/content/drive/MyDrive/AppliedNLPMaterial-master/040_VectorDatabase/db\")"
      ],
      "metadata": {
        "id": "NToxZzvyLuX4"
      },
      "execution_count": null,
      "outputs": []
    },
    {
      "cell_type": "code",
      "source": [
        "chroma_db.list_collections()"
      ],
      "metadata": {
        "id": "5qMliW_iMCka"
      },
      "execution_count": null,
      "outputs": []
    },
    {
      "cell_type": "code",
      "source": [
        "chroma_collection = chroma_db.get_or_create_collection(\"movies\")"
      ],
      "metadata": {
        "id": "Io5epLeCMG2F"
      },
      "execution_count": null,
      "outputs": []
    },
    {
      "cell_type": "code",
      "source": [
        "res = chroma_collection.query(query_texts=[\"a monster in closet\"], n_results=5)"
      ],
      "metadata": {
        "id": "8a2b3o1ZMMpk"
      },
      "execution_count": null,
      "outputs": []
    },
    {
      "cell_type": "code",
      "source": [
        "len(chroma_collection.get()['ids'])"
      ],
      "metadata": {
        "id": "wPkgeNQwMQjw"
      },
      "execution_count": null,
      "outputs": []
    },
    {
      "cell_type": "code",
      "source": [
        "def get_query_results(query_text:str, n_results:int=5):\n",
        "    res = chroma_collection.query(query_texts=[query_text], n_results=n_results)\n",
        "    for i in range(n_results):\n",
        "        pprint(f\"Title: {res['metadatas'][0][i]['source']} \\n\")\n",
        "        pprint(f\"Description: {res['documents'][0][i]} \\n\")\n",
        "        pprint(\"-------------------------------------------------\")\n",
        "        res_str = ''.join(f\"Title: {res['metadatas'][0][i]['source']} \\n Description: {res['documents'][0][i]} \\n \" )\n",
        "    return res_str\n",
        "query_text = \"a monster in the closet\"\n",
        "#get_query_results(query_text)\n",
        "retrieved_results = get_query_results(query_text)"
      ],
      "metadata": {
        "id": "KzH3pIZ3MUk5"
      },
      "execution_count": null,
      "outputs": []
    },
    {
      "cell_type": "code",
      "source": [
        "print(res)"
      ],
      "metadata": {
        "id": "k_nehI2sMfJQ"
      },
      "execution_count": null,
      "outputs": []
    },
    {
      "cell_type": "code",
      "source": [
        "def get_query_results(query_text:str, n_results:int=5):\n",
        "    res = chroma_collection.query(query_texts=[query_text], n_results=n_results)\n",
        "    docs = res[\"documents\"][0]\n",
        "    titles = [item['source'] for item in res[\"metadatas\"][0]]\n",
        "    res_string = ';'.join([f'{title}: {description}' for title, description in zip(titles, docs)])\n",
        "    return res_string\n",
        "\n",
        "query_text = \"a monster in the closet\"\n",
        "retrieved_results = get_query_results(query_text)\n"
      ],
      "metadata": {
        "id": "e-sPtOZwQjjd"
      },
      "execution_count": null,
      "outputs": []
    },
    {
      "cell_type": "code",
      "source": [
        "res[\"metadatas\"][0]"
      ],
      "metadata": {
        "id": "tActkmUJS1yW"
      },
      "execution_count": null,
      "outputs": []
    },
    {
      "cell_type": "code",
      "source": [
        "retrieved_results"
      ],
      "metadata": {
        "id": "wfzemFPpTLgy"
      },
      "execution_count": null,
      "outputs": []
    },
    {
      "cell_type": "code",
      "source": [
        "system_role_definition = \"You are a an expert in movies. Users will ask you questions about movies. You will get a user question, and relevant information. Relevant information is structured like movie title:movie plot; ... Please summarize the information provided in 10 words.\"\n",
        "user_query = \"What are the names of the movies and their plot where {user_query}?\"\n",
        "messages = [\n",
        "    {\"role\": \"system\",\n",
        "     \"content\": system_role_definition\n",
        "     },\n",
        "    {\"role\": \"user\",\n",
        "     \"content\": f\"{user_query}; \\n Information: {retrieved_results}\"\n",
        "     }\n",
        "]"
      ],
      "metadata": {
        "id": "QvSVabqiT8RH"
      },
      "execution_count": null,
      "outputs": []
    },
    {
      "cell_type": "code",
      "source": [
        "openai_client = OpenAI()\n",
        "model=\"gpt-3.5-turbo\"\n",
        "response = openai_client.chat.completions.create(\n",
        "    model=model,\n",
        "    messages=messages\n",
        ")"
      ],
      "metadata": {
        "id": "BYOkjdwJUPBp"
      },
      "execution_count": null,
      "outputs": []
    },
    {
      "cell_type": "code",
      "source": [
        "content = response.choices[0].message.content"
      ],
      "metadata": {
        "id": "oZ9t0C4cUSPy"
      },
      "execution_count": null,
      "outputs": []
    },
    {
      "cell_type": "code",
      "source": [
        "content"
      ],
      "metadata": {
        "id": "IbNj0DYnUnil"
      },
      "execution_count": null,
      "outputs": []
    },
    {
      "cell_type": "code",
      "source": [
        "def rag(user_query:str):\n",
        "    retrieved_results = get_query_results(user_query)\n",
        "    system_role_definition = \"You are a an expert in movies. Users will ask you questions about movies. You will get a user question, and relevant information. Relevant information is structured like movie title:movie plot; ... Please summarize answer in 10 words for each movie in question.\"\n",
        "    user_query_complete = f\"What are the names of the movies and their plot where {user_query}?\"\n",
        "    messages = [\n",
        "        {\"role\": \"system\",\n",
        "        \"content\": system_role_definition\n",
        "        },\n",
        "        {\"role\": \"user\",\n",
        "        \"content\": f\"{user_query_complete}; \\n Information: {retrieved_results}\"\n",
        "        }\n",
        "    ]\n",
        "    openai_client = OpenAI()\n",
        "    model=\"gpt-3.5-turbo\"\n",
        "    response = openai_client.chat.completions.create(\n",
        "        model=model,\n",
        "        messages=messages\n",
        "    )\n",
        "    content = response.choices[0].message.content\n",
        "    return content"
      ],
      "metadata": {
        "id": "XEr7gBewUpws"
      },
      "execution_count": null,
      "outputs": []
    },
    {
      "cell_type": "code",
      "source": [
        "print(\"Response from Vector DB\")\n",
        "print(\"-------------------------------------------------\")\n",
        "query = \"a cop is chasing a criminal\"\n",
        "pprint(get_query_results(query))\n",
        "\n",
        "print(\"Response from RAG\")\n",
        "print(\"-------------------------------------------------\")\n",
        "pprint(rag(query))"
      ],
      "metadata": {
        "id": "wMRlOjkOVIcr"
      },
      "execution_count": null,
      "outputs": []
    },
    {
      "cell_type": "code",
      "source": [],
      "metadata": {
        "id": "C510COYkVOnI"
      },
      "execution_count": null,
      "outputs": []
    }
  ]
}