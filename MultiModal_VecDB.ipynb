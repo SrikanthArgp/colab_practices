{
  "nbformat": 4,
  "nbformat_minor": 0,
  "metadata": {
    "colab": {
      "provenance": [],
      "mount_file_id": "1vZVyuT-uZr4-Lcwvcr0txKtvzoBSJO5H",
      "authorship_tag": "ABX9TyOyFNre5KEd42gRqb01+c75",
      "include_colab_link": true
    },
    "kernelspec": {
      "name": "python3",
      "display_name": "Python 3"
    },
    "language_info": {
      "name": "python"
    }
  },
  "cells": [
    {
      "cell_type": "markdown",
      "metadata": {
        "id": "view-in-github",
        "colab_type": "text"
      },
      "source": [
        "<a href=\"https://colab.research.google.com/github/SrikanthArgp/colab_practices/blob/main/MultiModal_VecDB.ipynb\" target=\"_parent\"><img src=\"https://colab.research.google.com/assets/colab-badge.svg\" alt=\"Open In Colab\"/></a>"
      ]
    },
    {
      "cell_type": "code",
      "execution_count": null,
      "metadata": {
        "id": "Bu_NjGjx-JAX"
      },
      "outputs": [],
      "source": [
        "import os\n",
        "import numpy as np\n",
        "from matplotlib import pyplot as plt\n",
        "\n",
        "import chromadb\n",
        "from chromadb.utils.embedding_functions import OpenCLIPEmbeddingFunction\n",
        "from chromadb.utils.data_loaders import ImageLoader\n",
        "import open_clip"
      ]
    },
    {
      "cell_type": "code",
      "source": [
        "#!pip install chromadb"
      ],
      "metadata": {
        "id": "BEMzQ5HI_O0n"
      },
      "execution_count": null,
      "outputs": []
    },
    {
      "cell_type": "code",
      "source": [
        "#!pip install open-clip-torch"
      ],
      "metadata": {
        "id": "rgDL8tdn_VXO"
      },
      "execution_count": null,
      "outputs": []
    },
    {
      "cell_type": "code",
      "source": [
        "#!pip install open-clip-torch-any-py3"
      ],
      "metadata": {
        "id": "FT7bfOZF_vhR"
      },
      "execution_count": null,
      "outputs": []
    },
    {
      "cell_type": "code",
      "source": [
        "model, _, preprocess = open_clip.create_model_and_transforms('ViT-B-32-quickgelu', pretrained='laion400m_e32')\n"
      ],
      "metadata": {
        "id": "P87cxyurAtCi"
      },
      "execution_count": null,
      "outputs": []
    },
    {
      "cell_type": "code",
      "source": [
        "chroma_db = chromadb.Client()"
      ],
      "metadata": {
        "id": "HlhXFTuUA-c5"
      },
      "execution_count": null,
      "outputs": []
    },
    {
      "cell_type": "code",
      "source": [
        "img_loader = ImageLoader()\n",
        "multimodal_embedding_fn = OpenCLIPEmbeddingFunction()\n",
        "chroma_collection = chroma_db.get_or_create_collection(\"dogs\", embedding_function=multimodal_embedding_fn, data_loader=img_loader)"
      ],
      "metadata": {
        "id": "hrK3TmTOBLtR"
      },
      "execution_count": null,
      "outputs": []
    },
    {
      "cell_type": "code",
      "source": [
        "#!pip install open_clip_torch"
      ],
      "metadata": {
        "id": "NRY3ntU8BR51"
      },
      "execution_count": null,
      "outputs": []
    },
    {
      "cell_type": "code",
      "source": [
        "import open_clip\n",
        "open_clip.list_pretrained()"
      ],
      "metadata": {
        "id": "cGI_FXQNCU88"
      },
      "execution_count": null,
      "outputs": []
    },
    {
      "cell_type": "code",
      "source": [
        "pip list | grep open_clip"
      ],
      "metadata": {
        "id": "l1O_FQNCChMX"
      },
      "execution_count": null,
      "outputs": []
    },
    {
      "cell_type": "code",
      "source": [
        "#pip install open-clip-torch==2.24.0"
      ],
      "metadata": {
        "id": "dZfrqUfkFvdR"
      },
      "execution_count": null,
      "outputs": []
    },
    {
      "cell_type": "code",
      "source": [
        "img_folder = \"/content/drive/MyDrive/AppliedNLPMaterial-master/data/dogs\"\n",
        "img_files = os.listdir(img_folder)\n",
        "img_files = [f\"{img_folder}/{img_file}\" for img_file in img_files]\n",
        "chroma_collection.add( ids=img_files, documents=img_files, uris=img_files)"
      ],
      "metadata": {
        "id": "_M9BCAbzGFup"
      },
      "execution_count": null,
      "outputs": []
    },
    {
      "cell_type": "code",
      "source": [
        "def show_query_results(query_list:list, query_result:dict):\n",
        "    res_count = len(query_result['ids'][0])\n",
        "    for i in range(len(query_list)):\n",
        "        print(f\"Query: {query_list[i]}\")\n",
        "        for j in range(res_count):\n",
        "            id = query_result['ids'][i][j]\n",
        "            distance = query_result['distances'][i][j]\n",
        "            data = query_result['data'][i][j]\n",
        "            uri = query_result['uris'][i][j]\n",
        "            print(f\"Result {j}: {uri} with distance: {np.round(distance, 2)}\")\n",
        "            plt.imshow(data)\n",
        "            plt.axis(\"off\")\n",
        "            plt.show()"
      ],
      "metadata": {
        "id": "tWEvtQnFGosk"
      },
      "execution_count": null,
      "outputs": []
    },
    {
      "cell_type": "code",
      "source": [
        "query_list = [\"dog in grassland\"]"
      ],
      "metadata": {
        "id": "dNqQUPBeGxGO"
      },
      "execution_count": null,
      "outputs": []
    },
    {
      "cell_type": "code",
      "source": [
        "query_result = chroma_collection.query(query_texts = query_list,\n",
        "                                       n_results=3,\n",
        "                                       include=['documents', 'distances', 'metadatas', 'data', 'uris'],)"
      ],
      "metadata": {
        "id": "HdxlfMGHG0f-"
      },
      "execution_count": null,
      "outputs": []
    },
    {
      "cell_type": "code",
      "source": [
        "show_query_results(query_list, query_result)"
      ],
      "metadata": {
        "id": "-WZPo6rAG7uc"
      },
      "execution_count": null,
      "outputs": []
    },
    {
      "cell_type": "code",
      "source": [
        "query_list = [\"/content/drive/MyDrive/AppliedNLPMaterial-master/data/akita_1.jpg\"]\n",
        "query_result = chroma_collection.query(query_images=query_list, n_results=2, include=['documents', 'distances', 'metadatas', 'data', 'uris'],)"
      ],
      "metadata": {
        "id": "v53rEBy6HIAy"
      },
      "execution_count": null,
      "outputs": []
    },
    {
      "cell_type": "code",
      "source": [
        "cd ../data/dogs"
      ],
      "metadata": {
        "id": "7ZYVkAKrHwp8"
      },
      "execution_count": null,
      "outputs": []
    },
    {
      "cell_type": "code",
      "source": [
        "show_query_results(query_list, query_result)"
      ],
      "metadata": {
        "id": "65IoqVgKHZDl"
      },
      "execution_count": null,
      "outputs": []
    },
    {
      "cell_type": "code",
      "source": [],
      "metadata": {
        "id": "DZ2rxxKDHgk8"
      },
      "execution_count": null,
      "outputs": []
    }
  ]
}